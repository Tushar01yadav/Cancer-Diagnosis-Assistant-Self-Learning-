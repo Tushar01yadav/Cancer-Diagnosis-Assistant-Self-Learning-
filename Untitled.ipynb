{
 "cells": [
  {
   "cell_type": "code",
   "execution_count": 1,
   "id": "eef55e53-5f0e-4b4a-9aa0-3358b296ad95",
   "metadata": {},
   "outputs": [
    {
     "name": "stdout",
     "output_type": "stream",
     "text": [
      "Initialized empty Git repository in C:/Users/HP/PycharmProjects/Cancer Diagnosis assitant/.git/\n"
     ]
    }
   ],
   "source": [
    "!git init "
   ]
  },
  {
   "cell_type": "code",
   "execution_count": 5,
   "id": "ac3d0d3f-4738-494f-8389-a145da13d169",
   "metadata": {},
   "outputs": [],
   "source": [
    "!git add ."
   ]
  },
  {
   "cell_type": "code",
   "execution_count": 6,
   "id": "d5eae917-91cd-4394-8ecf-dfe7b3e2ce14",
   "metadata": {},
   "outputs": [
    {
     "name": "stdout",
     "output_type": "stream",
     "text": [
      "[master (root-commit) 6735886] second commit\n",
      " 22 files changed, 547 insertions(+)\n",
      " create mode 100644 .idea/.gitignore\n",
      " create mode 100644 .idea/inspectionProfiles/Project_Default.xml\n",
      " create mode 100644 .idea/inspectionProfiles/profiles_settings.xml\n",
      " create mode 100644 .idea/misc.xml\n",
      " create mode 100644 .idea/modules.xml\n",
      " create mode 100644 .idea/pythonProject.iml\n",
      " create mode 100644 .ipynb_checkpoints/Untitled-checkpoint.ipynb\n",
      " create mode 100644 Cancer_data.db\n",
      " create mode 100644 Untitled.ipynb\n",
      " create mode 100644 __pycache__/app.cpython-310.pyc\n",
      " create mode 100644 __pycache__/cancer_model.cpython-310.pyc\n",
      " create mode 100644 __pycache__/eda.cpython-310.pyc\n",
      " create mode 100644 __pycache__/eda.cpython-313.pyc\n",
      " create mode 100644 app.py\n",
      " create mode 100644 background.jpg\n",
      " create mode 100644 cancer_model.py\n",
      " create mode 100644 eda.py\n",
      " create mode 100644 read_db.py\n",
      " create mode 100644 rfe_model.pkl\n",
      " create mode 100644 selected_features.pkl\n",
      " create mode 100644 users.db\n",
      " create mode 100644 your_database.db\n"
     ]
    }
   ],
   "source": [
    "!git commit -m \"second commit\""
   ]
  },
  {
   "cell_type": "code",
   "execution_count": 7,
   "id": "f4de9a6d-bd7a-42b9-aeb1-692e85c78bfc",
   "metadata": {},
   "outputs": [],
   "source": [
    "!git remote add origin https://github.com/Tushar01yadav/Cancer-Diagnosis-Assistant-Self-Learning-.git"
   ]
  },
  {
   "cell_type": "code",
   "execution_count": 10,
   "id": "07396d28-0c57-4594-84c6-093bc9b3e5a0",
   "metadata": {},
   "outputs": [
    {
     "name": "stderr",
     "output_type": "stream",
     "text": [
      "To https://github.com/Tushar01yadav/Cancer-Diagnosis-Assistant-Self-Learning-.git\n",
      " + 70f7805...6735886 main -> main (forced update)\n"
     ]
    }
   ],
   "source": [
    "! git branch -M main\n",
    "!git push origin main --force\n"
   ]
  },
  {
   "cell_type": "code",
   "execution_count": null,
   "id": "f8046deb-3d03-444b-bd5c-9191e2a2f0de",
   "metadata": {},
   "outputs": [],
   "source": []
  }
 ],
 "metadata": {
  "kernelspec": {
   "display_name": "Python 3 (ipykernel)",
   "language": "python",
   "name": "python3"
  },
  "language_info": {
   "codemirror_mode": {
    "name": "ipython",
    "version": 3
   },
   "file_extension": ".py",
   "mimetype": "text/x-python",
   "name": "python",
   "nbconvert_exporter": "python",
   "pygments_lexer": "ipython3",
   "version": "3.10.11"
  }
 },
 "nbformat": 4,
 "nbformat_minor": 5
}
